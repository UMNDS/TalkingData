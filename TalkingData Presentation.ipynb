{
 "cells": [
  {
   "cell_type": "markdown",
   "metadata": {},
   "source": [
    "# TalkingData (Presentation)\n",
    "## Data Exploration\n",
    "- Data description (train.head())\n",
    "- Plot: app downloaded vs. not downloaded\n",
    "- Time plots of conversion rates: IPs, app, os, device, channel\n",
    "- Time plots (hourly): ARIMA - stationary?; question - click count vs. proportion converted discrepancy\n",
    "- Q: IP = fake? not use it -> aggregate ip-wday-hour, ip-wday-hour-os, ip-wday-hour-app, ip-wday-hour-app-os, app-wday-hour, hour-channel-app-ip EXPLAIN AGGREGATION\n",
    "- Feature importance\n",
    "## Model\n",
    "- Logistic Regression\n",
    "- LDA\n",
    "- Random Forest\n",
    "- SVM\n",
    "- XGBoost\n",
    "- LightGBM\n",
    "- Neural Net"
   ]
  },
  {
   "cell_type": "code",
   "execution_count": null,
   "metadata": {
    "collapsed": true
   },
   "outputs": [],
   "source": [
    " "
   ]
  }
 ],
 "metadata": {
  "kernelspec": {
   "display_name": "Python 2",
   "language": "python",
   "name": "python2"
  },
  "language_info": {
   "codemirror_mode": {
    "name": "ipython",
    "version": 2
   },
   "file_extension": ".py",
   "mimetype": "text/x-python",
   "name": "python",
   "nbconvert_exporter": "python",
   "pygments_lexer": "ipython2",
   "version": "2.7.14"
  }
 },
 "nbformat": 4,
 "nbformat_minor": 2
}
