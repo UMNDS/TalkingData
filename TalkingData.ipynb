{
 "cells": [
  {
   "cell_type": "markdown",
   "metadata": {},
   "source": [
    "# TalkingData (Kaggle)\n",
    "## Pre-processing"
   ]
  },
  {
   "cell_type": "markdown",
   "metadata": {},
   "source": [
    "### Import"
   ]
  },
  {
   "cell_type": "code",
   "execution_count": 13,
   "metadata": {
    "scrolled": true
   },
   "outputs": [
    {
     "name": "stdout",
     "output_type": "stream",
     "text": [
      "Requirement already satisfied: lightgbm in c:\\users\\nguy3409\\appdata\\local\\continuum\\anaconda2\\lib\\site-packages (2.1.0)\n",
      "Requirement already satisfied: numpy in c:\\users\\nguy3409\\appdata\\local\\continuum\\anaconda2\\lib\\site-packages (from lightgbm) (1.13.3)\n",
      "Requirement already satisfied: scipy in c:\\users\\nguy3409\\appdata\\local\\continuum\\anaconda2\\lib\\site-packages (from lightgbm) (0.19.1)\n",
      "Requirement already satisfied: scikit-learn in c:\\users\\nguy3409\\appdata\\local\\continuum\\anaconda2\\lib\\site-packages (from lightgbm) (0.19.1)\n"
     ]
    },
    {
     "name": "stderr",
     "output_type": "stream",
     "text": [
      "grin 1.2.1 requires argparse>=1.1, which is not installed.\n"
     ]
    },
    {
     "name": "stdout",
     "output_type": "stream",
     "text": [
      "Collecting xgboost\n",
      "  Using cached https://files.pythonhosted.org/packages/4b/c4/57e246bc99e45c048f9805f2773e7369f0d30896d19fa089fa1794c7b246/xgboost-0.71.tar.gz\n"
     ]
    },
    {
     "name": "stderr",
     "output_type": "stream",
     "text": [
      "No files/directories in c:\\users\\nguy3409\\appdata\\local\\temp\\pip-install-nocyyo\\xgboost\\pip-egg-info (from PKG-INFO)\n"
     ]
    }
   ],
   "source": [
    "import os\n",
    "import pandas as pd\n",
    "import numpy as np\n",
    "import seaborn as sns\n",
    "import matplotlib.pyplot as plt\n",
    "from datetime import datetime\n",
    "\n",
    "import warnings\n",
    "warnings.filterwarnings('ignore')\n",
    "%matplotlib inline\n",
    "\n",
    "from sklearn.utils import resample\n",
    "\n",
    "from sklearn.model_selection import train_test_split\n",
    "from sklearn.linear_model import LogisticRegression\n",
    "from sklearn import metrics\n",
    "from sklearn import model_selection\n",
    "from sklearn.model_selection import cross_val_score\n",
    "from sklearn.ensemble import RandomForestClassifier\n",
    "!pip install lightgbm\n",
    "!pip install xgboost\n",
    "import lightgbm as lgb\n",
    "#import xgboost as xgb"
   ]
  },
  {
   "cell_type": "markdown",
   "metadata": {},
   "source": [
    "### Load in data"
   ]
  },
  {
   "cell_type": "code",
   "execution_count": null,
   "metadata": {
    "collapsed": true,
    "scrolled": true
   },
   "outputs": [],
   "source": [
    "DATA_PATH = r\"C:\\Users\\nguy3409\\TalkingData-master\"\n",
    "\n",
    "def load_data(data_path=DATA_PATH):\n",
    "    # PATHS TO FILE\n",
    "    train_path = os.path.join(data_path, \"train.csv\")\n",
    "    test_path = os.path.join(data_path, \"test.csv\")\n",
    "    #ssize = 100000\n",
    "    #return pd.read_csv(train_path,nrows=ssize), pd.read_csv(test_path)\n",
    "    return pd.read_csv(train_path), pd.read_csv(test_path)\n",
    "\n",
    "train, test = load_data()"
   ]
  },
  {
   "cell_type": "markdown",
   "metadata": {},
   "source": [
    "### Data Exploration"
   ]
  },
  {
   "cell_type": "code",
   "execution_count": null,
   "metadata": {
    "collapsed": true,
    "scrolled": true
   },
   "outputs": [],
   "source": [
    "# Training sample\n",
    "print(train.shape)\n",
    "train.head()"
   ]
  },
  {
   "cell_type": "code",
   "execution_count": null,
   "metadata": {
    "collapsed": true,
    "scrolled": true
   },
   "outputs": [],
   "source": [
    "# Describe train\n",
    "train.dtypes\n",
    "train.max()"
   ]
  },
  {
   "cell_type": "code",
   "execution_count": null,
   "metadata": {
    "collapsed": true,
    "scrolled": true
   },
   "outputs": [],
   "source": [
    "# Check NAs\n",
    "train.isnull().sum()"
   ]
  },
  {
   "cell_type": "code",
   "execution_count": null,
   "metadata": {
    "collapsed": true,
    "scrolled": true
   },
   "outputs": [],
   "source": [
    "# Extract data where is_attributed == 1\n",
    "train_att = train[train['is_attributed']==1]\n",
    "# Check NAs\n",
    "train_att.isnull().sum()"
   ]
  },
  {
   "cell_type": "markdown",
   "metadata": {},
   "source": [
    "We notice that all the missing values in 'attributed_time' are for observations that did not convert into a download ('is_attributed'=0)."
   ]
  },
  {
   "cell_type": "code",
   "execution_count": null,
   "metadata": {
    "collapsed": true,
    "scrolled": true
   },
   "outputs": [],
   "source": [
    "# Percentage of is_attributed == 1\n",
    "p = len(train_att)/len(train)\n",
    "print(len(train_att))\n",
    "print('The percentage of converted clicks is {num:.10%}'.format(num=p))"
   ]
  },
  {
   "cell_type": "code",
   "execution_count": null,
   "metadata": {
    "collapsed": true,
    "scrolled": true
   },
   "outputs": [],
   "source": [
    "# Plot the proportion of clicks that converted into a download or not\n",
    "plt.figure(figsize=(6,6))\n",
    "#sns.set(font_scale=1.2)\n",
    "mean = (train.is_attributed.values == 1).mean()\n",
    "ax = sns.barplot(['Converted (1)', 'Not Converted (0)'], [mean, 1-mean])\n",
    "ax.set(ylabel='Proportion', title='Proportion of clicks converted into app downloads')\n",
    "for p, uniq in zip(ax.patches, [mean, 1-mean]):\n",
    "    height = p.get_height()\n",
    "    ax.text(p.get_x()+p.get_width()/2.,\n",
    "            height+0.01,\n",
    "            '{}%'.format(round(uniq * 100, 2)),\n",
    "            ha=\"center\")"
   ]
  },
  {
   "cell_type": "markdown",
   "metadata": {
    "collapsed": true
   },
   "source": [
    "### Undersampling\n",
    "Sample the data using random undersampling"
   ]
  },
  {
   "cell_type": "code",
   "execution_count": null,
   "metadata": {
    "collapsed": true,
    "scrolled": true
   },
   "outputs": [],
   "source": [
    "# Separate the 2 classes\n",
    "train_0 = train[train['is_attributed'] == 0]\n",
    "train_1 = train[train['is_attributed'] == 1]"
   ]
  },
  {
   "cell_type": "code",
   "execution_count": null,
   "metadata": {
    "collapsed": true,
    "scrolled": true
   },
   "outputs": [],
   "source": [
    "print(len(train_1))\n",
    "print(train_0.shape)\n",
    "print(train.shape)\n",
    "train['is_attributed'].value_counts()"
   ]
  },
  {
   "cell_type": "code",
   "execution_count": null,
   "metadata": {
    "collapsed": true,
    "scrolled": true
   },
   "outputs": [],
   "source": [
    "# Undersample class 0 (without replacement)\n",
    "train0_undersampled = resample(train_0, replace=False, n_samples=len(train_1), random_state=142) "
   ]
  },
  {
   "cell_type": "code",
   "execution_count": null,
   "metadata": {
    "collapsed": true,
    "scrolled": true
   },
   "outputs": [],
   "source": [
    "# Combine minority class with downsampled majority class\n",
    "train_us = pd.concat([train0_undersampled, train_1])\n",
    " \n",
    "# Display new class counts\n",
    "train_us.is_attributed.value_counts()"
   ]
  },
  {
   "cell_type": "markdown",
   "metadata": {},
   "source": [
    "### Feature Engineering"
   ]
  },
  {
   "cell_type": "code",
   "execution_count": null,
   "metadata": {
    "collapsed": true,
    "scrolled": true
   },
   "outputs": [],
   "source": [
    "# Set categorical variables\n",
    "cat = ['ip', 'app', 'device', 'os', 'channel']\n",
    "for c in cat:\n",
    "    train_us[c] = train_us[c].astype('category')\n",
    "    test[c]=test[c].astype('category')\n",
    "\n",
    "# Only training data has is_attributed\n",
    "train_us['is_attributed'] = train_us['is_attribute'].astype('category')"
   ]
  },
  {
   "cell_type": "code",
   "execution_count": null,
   "metadata": {
    "collapsed": true,
    "scrolled": true
   },
   "outputs": [],
   "source": [
    "# Extract features from click_time\n",
    "def ppClicktime(df):\n",
    "    df['click_time'] = pd.to_datetime(df['click_time'])\n",
    "    df['wday'] = df['click_time'].dt.dayofweek\n",
    "    df['week'] = df['click_time'].dt.week\n",
    "    df['hour'] = df['click_time'].dt.hour\n",
    "    df['minute'] = df['click_time'].dt.minute\n",
    "    return df\n",
    "# Pre-process training (undersampled) and testing sets\n",
    "train_pp = ppClicktime(train_us)\n",
    "test_pp = ppClicktime(test)"
   ]
  },
  {
   "cell_type": "code",
   "execution_count": null,
   "metadata": {
    "collapsed": true,
    "scrolled": true
   },
   "outputs": [],
   "source": [
    "# Drop click_time\n",
    "train_pp.drop('click_time', axis = 1, inplace = True)\n",
    "test_pp.drop('click_time', axis = 1, inplace = True)\n",
    "print(len(test_pp))\n",
    "test_pp.head()"
   ]
  },
  {
   "cell_type": "code",
   "execution_count": null,
   "metadata": {
    "collapsed": true,
    "scrolled": true
   },
   "outputs": [],
   "source": [
    "# Write to csv\n",
    "train_pp.to_csv(\"train_pp.csv\",index=None)\n",
    "test_pp.to_csv(\"test_pp.csv\",index=None)"
   ]
  },
  {
   "cell_type": "markdown",
   "metadata": {},
   "source": [
    "### Feature aggregation"
   ]
  },
  {
   "cell_type": "code",
   "execution_count": 14,
   "metadata": {
    "scrolled": true
   },
   "outputs": [],
   "source": [
    "# Load in pre-processed files\n",
    "PP_PATH = r\"C:\\Users\\nguy3409\\TalkingData-master\"\n",
    "\n",
    "def load_pp(pp_path=PP_PATH):\n",
    "    # PATHS TO FILE\n",
    "    train_pp = os.path.join(pp_path, \"train_pp.csv\")\n",
    "    test_pp = os.path.join(pp_path, \"test_pp.csv\")\n",
    "    return pd.read_csv(train_pp), pd.read_csv(test_pp)\n",
    "\n",
    "train_pp, test_pp = load_pp()"
   ]
  },
  {
   "cell_type": "code",
   "execution_count": 15,
   "metadata": {
    "collapsed": true,
    "scrolled": true
   },
   "outputs": [],
   "source": [
    "# Drop attributed_time\n",
    "train_pp.drop('attributed_time', axis = 1, inplace = True)"
   ]
  },
  {
   "cell_type": "code",
   "execution_count": 34,
   "metadata": {},
   "outputs": [
    {
     "data": {
      "text/html": [
       "<div>\n",
       "<style>\n",
       "    .dataframe thead tr:only-child th {\n",
       "        text-align: right;\n",
       "    }\n",
       "\n",
       "    .dataframe thead th {\n",
       "        text-align: left;\n",
       "    }\n",
       "\n",
       "    .dataframe tbody tr th {\n",
       "        vertical-align: top;\n",
       "    }\n",
       "</style>\n",
       "<table border=\"1\" class=\"dataframe\">\n",
       "  <thead>\n",
       "    <tr style=\"text-align: right;\">\n",
       "      <th></th>\n",
       "      <th>ip</th>\n",
       "      <th>app</th>\n",
       "      <th>device</th>\n",
       "      <th>os</th>\n",
       "      <th>channel</th>\n",
       "      <th>is_attributed</th>\n",
       "      <th>wday</th>\n",
       "      <th>hour</th>\n",
       "    </tr>\n",
       "  </thead>\n",
       "  <tbody>\n",
       "    <tr>\n",
       "      <th>0</th>\n",
       "      <td>26920</td>\n",
       "      <td>2</td>\n",
       "      <td>1</td>\n",
       "      <td>19</td>\n",
       "      <td>236</td>\n",
       "      <td>0</td>\n",
       "      <td>2</td>\n",
       "      <td>4</td>\n",
       "    </tr>\n",
       "    <tr>\n",
       "      <th>1</th>\n",
       "      <td>73767</td>\n",
       "      <td>9</td>\n",
       "      <td>1</td>\n",
       "      <td>15</td>\n",
       "      <td>442</td>\n",
       "      <td>0</td>\n",
       "      <td>2</td>\n",
       "      <td>4</td>\n",
       "    </tr>\n",
       "    <tr>\n",
       "      <th>2</th>\n",
       "      <td>75931</td>\n",
       "      <td>7</td>\n",
       "      <td>2</td>\n",
       "      <td>13</td>\n",
       "      <td>101</td>\n",
       "      <td>0</td>\n",
       "      <td>1</td>\n",
       "      <td>6</td>\n",
       "    </tr>\n",
       "    <tr>\n",
       "      <th>3</th>\n",
       "      <td>83268</td>\n",
       "      <td>12</td>\n",
       "      <td>1</td>\n",
       "      <td>19</td>\n",
       "      <td>245</td>\n",
       "      <td>0</td>\n",
       "      <td>2</td>\n",
       "      <td>6</td>\n",
       "    </tr>\n",
       "    <tr>\n",
       "      <th>4</th>\n",
       "      <td>66724</td>\n",
       "      <td>8</td>\n",
       "      <td>1</td>\n",
       "      <td>15</td>\n",
       "      <td>145</td>\n",
       "      <td>0</td>\n",
       "      <td>2</td>\n",
       "      <td>0</td>\n",
       "    </tr>\n",
       "  </tbody>\n",
       "</table>\n",
       "</div>"
      ],
      "text/plain": [
       "      ip  app  device  os  channel  is_attributed  wday  hour\n",
       "0  26920    2       1  19      236              0     2     4\n",
       "1  73767    9       1  15      442              0     2     4\n",
       "2  75931    7       2  13      101              0     1     6\n",
       "3  83268   12       1  19      245              0     2     6\n",
       "4  66724    8       1  15      145              0     2     0"
      ]
     },
     "execution_count": 34,
     "metadata": {},
     "output_type": "execute_result"
    }
   ],
   "source": [
    "train_pp.head()"
   ]
  },
  {
   "cell_type": "code",
   "execution_count": 17,
   "metadata": {
    "collapsed": true
   },
   "outputs": [],
   "source": [
    "# Drop unnecessary features\n",
    "def drop_ft(df):\n",
    "    df.drop(['week','minute'],axis=1, inplace=True)\n",
    "    return df\n",
    "train_pp = drop_ft(train_pp)\n",
    "test_pp = drop_ft(test_pp)"
   ]
  },
  {
   "cell_type": "markdown",
   "metadata": {},
   "source": [
    "Adding new features"
   ]
  },
  {
   "cell_type": "code",
   "execution_count": 35,
   "metadata": {
    "collapsed": true,
    "scrolled": true
   },
   "outputs": [],
   "source": [
    "def aggregate_features(df):\n",
    "    # IPs\n",
    "    n_ip = df[['ip','channel']].groupby(by=['ip'])[['channel']].count().reset_index().rename(index = str, columns={'channel': 'n_ip'})\n",
    "    df = df.merge(n_ip, on = ['ip'], how = 'left')\n",
    "    # app count\n",
    "    ip_app_count = df[['ip','app', 'channel']].groupby(by=['ip', 'app'])[['channel']].count().reset_index().rename(columns={'channel': 'ip_app_count'})\n",
    "    df = df.merge(ip_app_count, on = ['ip', 'app'], how = 'left')\n",
    "    # device count\n",
    "    ip_device_count = df[['ip','device', 'channel']].groupby(by=['ip', 'device'])[['channel']].count().reset_index().rename(columns={'channel': 'ip_device_count'})\n",
    "    df = df.merge(ip_device_count, on = ['ip', 'device'], how = 'left')\n",
    "    # os count\n",
    "    ip_os_count = df[['ip','os', 'channel']].groupby(by=['ip', 'os'])[['channel']].count().reset_index().rename(columns={'channel': 'ip_os_count'})\n",
    "    df = df.merge(ip_os_count, on = ['ip', 'os'], how = 'left')\n",
    "    # wday + hour\n",
    "    ip_wday_hour = df[['ip', 'wday', 'hour', 'channel']].groupby(by = ['ip','wday','hour'])[['channel']].count().reset_index().rename(index = str, columns = {'channel': 'ip_wday_hour'})\n",
    "    df = df.merge(ip_wday_hour, on = ['ip', 'wday', 'hour'], how = 'left')\n",
    "    # app + hour\n",
    "    ip_app_hour = df[['ip', 'app', 'hour', 'channel']].groupby(by = ['ip','app','hour'])[['channel']].count().reset_index().rename(index = str, columns = {'channel': 'ip_app_hour'})\n",
    "    df = df.merge(ip_app_hour, on = ['ip', 'app', 'hour'], how = 'left')\n",
    "    # device + hour\n",
    "    ip_device_hour = df[['ip', 'device', 'hour', 'channel']].groupby(by = ['ip','device','hour'])[['channel']].count().reset_index().rename(index = str, columns = {'channel': 'ip_device_hour'})\n",
    "    df = df.merge(ip_device_hour, on = ['ip', 'device', 'hour'], how = 'left')\n",
    "    # os + hour\n",
    "    ip_os_hour = df[['ip', 'os', 'hour', 'channel']].groupby(by = ['ip','os','hour'])[['channel']].count().reset_index().rename(index = str, columns = {'channel': 'ip_os_hour'})\n",
    "    df = df.merge(ip_os_hour, on = ['ip', 'os', 'hour'], how = 'left')\n",
    "    # app + device + hour\n",
    "    ip_os_device_hour = df[['ip', 'os', 'device', 'hour', 'channel']].groupby(by = ['ip','os', 'device', 'hour'])[['channel']].count().reset_index().rename(index = str, columns = {'channel': 'ip_os_device_hour'})\n",
    "    df = df.merge(ip_os_device_hour, on = ['ip', 'os', 'device', 'hour'], how = 'left')\n",
    "    return df"
   ]
  },
  {
   "cell_type": "code",
   "execution_count": 36,
   "metadata": {
    "collapsed": true,
    "scrolled": true
   },
   "outputs": [],
   "source": [
    "train_ag = aggregate_features(train_pp)"
   ]
  },
  {
   "cell_type": "code",
   "execution_count": 37,
   "metadata": {
    "collapsed": true,
    "scrolled": true
   },
   "outputs": [],
   "source": [
    "test_ag = aggregate_features(test_pp)"
   ]
  },
  {
   "cell_type": "code",
   "execution_count": 38,
   "metadata": {
    "collapsed": true,
    "scrolled": true
   },
   "outputs": [],
   "source": [
    "# Write to csv\n",
    "train_ag.to_csv(\"train_ag.csv\",index=None)\n",
    "test_ag.to_csv(\"test_ag.csv\",index=None)"
   ]
  },
  {
   "cell_type": "markdown",
   "metadata": {},
   "source": [
    "# Modeling"
   ]
  },
  {
   "cell_type": "code",
   "execution_count": null,
   "metadata": {
    "collapsed": true,
    "scrolled": true
   },
   "outputs": [],
   "source": [
    "# Load in aggregated files\n",
    "PP_PATH = r\"C:\\Users\\reio\\Documents\\GitHub\\TalkingData\"\n",
    "\n",
    "def load_ag(ag_path=PP_PATH):\n",
    "    # PATHS TO FILE\n",
    "    train_pp = os.path.join(pp_path, \"train_ag.csv\")\n",
    "    test_pp = os.path.join(pp_path, \"test_ag.csv\")\n",
    "    return pd.read_csv(train_ag), pd.read_csv(test_ag)\n",
    "\n",
    "train_ag, test_ag = load_ag()"
   ]
  },
  {
   "cell_type": "markdown",
   "metadata": {},
   "source": [
    "### Splitting training dataset"
   ]
  },
  {
   "cell_type": "code",
   "execution_count": 39,
   "metadata": {
    "scrolled": true
   },
   "outputs": [
    {
     "data": {
      "text/html": [
       "<div>\n",
       "<style>\n",
       "    .dataframe thead tr:only-child th {\n",
       "        text-align: right;\n",
       "    }\n",
       "\n",
       "    .dataframe thead th {\n",
       "        text-align: left;\n",
       "    }\n",
       "\n",
       "    .dataframe tbody tr th {\n",
       "        vertical-align: top;\n",
       "    }\n",
       "</style>\n",
       "<table border=\"1\" class=\"dataframe\">\n",
       "  <thead>\n",
       "    <tr style=\"text-align: right;\">\n",
       "      <th></th>\n",
       "      <th>ip</th>\n",
       "      <th>app</th>\n",
       "      <th>device</th>\n",
       "      <th>os</th>\n",
       "      <th>channel</th>\n",
       "      <th>wday</th>\n",
       "      <th>hour</th>\n",
       "      <th>n_ip</th>\n",
       "      <th>ip_app_count</th>\n",
       "      <th>ip_device_count</th>\n",
       "      <th>ip_os_count</th>\n",
       "      <th>ip_wday_hour</th>\n",
       "      <th>ip_app_hour</th>\n",
       "      <th>ip_device_hour</th>\n",
       "      <th>ip_os_hour</th>\n",
       "      <th>ip_os_device_hour</th>\n",
       "    </tr>\n",
       "  </thead>\n",
       "  <tbody>\n",
       "    <tr>\n",
       "      <th>0</th>\n",
       "      <td>26920</td>\n",
       "      <td>2</td>\n",
       "      <td>1</td>\n",
       "      <td>19</td>\n",
       "      <td>236</td>\n",
       "      <td>2</td>\n",
       "      <td>4</td>\n",
       "      <td>27</td>\n",
       "      <td>4</td>\n",
       "      <td>23</td>\n",
       "      <td>7</td>\n",
       "      <td>1</td>\n",
       "      <td>2</td>\n",
       "      <td>4</td>\n",
       "      <td>2</td>\n",
       "      <td>2</td>\n",
       "    </tr>\n",
       "    <tr>\n",
       "      <th>1</th>\n",
       "      <td>73767</td>\n",
       "      <td>9</td>\n",
       "      <td>1</td>\n",
       "      <td>15</td>\n",
       "      <td>442</td>\n",
       "      <td>2</td>\n",
       "      <td>4</td>\n",
       "      <td>40</td>\n",
       "      <td>5</td>\n",
       "      <td>27</td>\n",
       "      <td>1</td>\n",
       "      <td>2</td>\n",
       "      <td>1</td>\n",
       "      <td>4</td>\n",
       "      <td>1</td>\n",
       "      <td>1</td>\n",
       "    </tr>\n",
       "    <tr>\n",
       "      <th>2</th>\n",
       "      <td>75931</td>\n",
       "      <td>7</td>\n",
       "      <td>2</td>\n",
       "      <td>13</td>\n",
       "      <td>101</td>\n",
       "      <td>1</td>\n",
       "      <td>6</td>\n",
       "      <td>27</td>\n",
       "      <td>1</td>\n",
       "      <td>8</td>\n",
       "      <td>9</td>\n",
       "      <td>2</td>\n",
       "      <td>1</td>\n",
       "      <td>2</td>\n",
       "      <td>1</td>\n",
       "      <td>1</td>\n",
       "    </tr>\n",
       "    <tr>\n",
       "      <th>3</th>\n",
       "      <td>83268</td>\n",
       "      <td>12</td>\n",
       "      <td>1</td>\n",
       "      <td>19</td>\n",
       "      <td>245</td>\n",
       "      <td>2</td>\n",
       "      <td>6</td>\n",
       "      <td>21</td>\n",
       "      <td>5</td>\n",
       "      <td>15</td>\n",
       "      <td>3</td>\n",
       "      <td>1</td>\n",
       "      <td>1</td>\n",
       "      <td>1</td>\n",
       "      <td>1</td>\n",
       "      <td>1</td>\n",
       "    </tr>\n",
       "    <tr>\n",
       "      <th>4</th>\n",
       "      <td>66724</td>\n",
       "      <td>8</td>\n",
       "      <td>1</td>\n",
       "      <td>15</td>\n",
       "      <td>145</td>\n",
       "      <td>2</td>\n",
       "      <td>0</td>\n",
       "      <td>17</td>\n",
       "      <td>1</td>\n",
       "      <td>16</td>\n",
       "      <td>1</td>\n",
       "      <td>1</td>\n",
       "      <td>1</td>\n",
       "      <td>5</td>\n",
       "      <td>1</td>\n",
       "      <td>1</td>\n",
       "    </tr>\n",
       "  </tbody>\n",
       "</table>\n",
       "</div>"
      ],
      "text/plain": [
       "      ip  app  device  os  channel  wday  hour  n_ip  ip_app_count  \\\n",
       "0  26920    2       1  19      236     2     4    27             4   \n",
       "1  73767    9       1  15      442     2     4    40             5   \n",
       "2  75931    7       2  13      101     1     6    27             1   \n",
       "3  83268   12       1  19      245     2     6    21             5   \n",
       "4  66724    8       1  15      145     2     0    17             1   \n",
       "\n",
       "   ip_device_count  ip_os_count  ip_wday_hour  ip_app_hour  ip_device_hour  \\\n",
       "0               23            7             1            2               4   \n",
       "1               27            1             2            1               4   \n",
       "2                8            9             2            1               2   \n",
       "3               15            3             1            1               1   \n",
       "4               16            1             1            1               5   \n",
       "\n",
       "   ip_os_hour  ip_os_device_hour  \n",
       "0           2                  2  \n",
       "1           1                  1  \n",
       "2           1                  1  \n",
       "3           1                  1  \n",
       "4           1                  1  "
      ]
     },
     "execution_count": 39,
     "metadata": {},
     "output_type": "execute_result"
    }
   ],
   "source": [
    "# Separate response variables from predictors\n",
    "y = list(train_ag.is_attributed)\n",
    "X = train_ag.drop(['is_attributed'],axis=1)\n",
    "X.head()"
   ]
  },
  {
   "cell_type": "code",
   "execution_count": 40,
   "metadata": {
    "collapsed": true,
    "scrolled": true
   },
   "outputs": [],
   "source": [
    "# Drop ip\n",
    "X = X.drop(['ip'],axis=1)"
   ]
  },
  {
   "cell_type": "code",
   "execution_count": 24,
   "metadata": {
    "scrolled": true
   },
   "outputs": [
    {
     "data": {
      "text/plain": [
       "913692"
      ]
     },
     "execution_count": 24,
     "metadata": {},
     "output_type": "execute_result"
    }
   ],
   "source": [
    "len(y)"
   ]
  },
  {
   "cell_type": "code",
   "execution_count": 41,
   "metadata": {
    "collapsed": true,
    "scrolled": true
   },
   "outputs": [],
   "source": [
    "# Split the training data into training and test sets for cross-validation\n",
    "X_train, X_test, y_train, y_test = train_test_split(X, y, test_size = 0.2)"
   ]
  },
  {
   "cell_type": "markdown",
   "metadata": {},
   "source": [
    "### Logistic Regression"
   ]
  },
  {
   "cell_type": "code",
   "execution_count": null,
   "metadata": {
    "collapsed": true,
    "scrolled": true
   },
   "outputs": [],
   "source": [
    "# Fit model\n",
    "logreg = LogisticRegression()\n",
    "logreg.fit(X_train, y_train)\n",
    "# Predict on test set\n",
    "y_pred = logreg.predict(X_test)\n",
    "y_pred_prob = logreg.predict_proba(X_test)\n",
    "# AUC\n",
    "metrics.roc_auc_score(y_test, y_pred_prob[:,1])"
   ]
  },
  {
   "cell_type": "markdown",
   "metadata": {},
   "source": [
    "### Random Forest"
   ]
  },
  {
   "cell_type": "code",
   "execution_count": null,
   "metadata": {
    "collapsed": true,
    "scrolled": true
   },
   "outputs": [],
   "source": [
    "# Fit model\n",
    "Ntree = 500\n",
    "rfc = RandomForestClassifier(n_estimators=Ntree)\n",
    "rfc.fit(X_train, y_train)\n",
    "# Predict on test set\n",
    "y_pred = rfc.predict(X_test)\n",
    "y_pred_prob = rfc.predict_proba(X_test)\n",
    "# AUC\n",
    "metrics.roc_auc_score(y_test, y_pred_prob[:,1])"
   ]
  },
  {
   "cell_type": "markdown",
   "metadata": {},
   "source": [
    "### Light GBM"
   ]
  },
  {
   "cell_type": "code",
   "execution_count": 42,
   "metadata": {
    "collapsed": true,
    "scrolled": true
   },
   "outputs": [],
   "source": [
    "target = 'is_attributed'\n",
    "predictors = ['device', 'app', 'os', 'channel', 'wday', 'hour',\n",
    "              'n_ip', 'ip_app_count', 'ip_device_count', 'ip_os_count',\n",
    "              'ip_wday_hour', 'ip_app_hour', 'ip_device_hour', \n",
    "              'ip_os_hour', 'ip_os_device_hour']\n",
    "categorical = ['app', 'device', 'os', 'channel', 'wday', 'hour']"
   ]
  },
  {
   "cell_type": "code",
   "execution_count": 43,
   "metadata": {
    "collapsed": true,
    "scrolled": true
   },
   "outputs": [],
   "source": [
    "params = {\n",
    "    'boosting_type': 'gbdt',\n",
    "    'objective': 'binary',\n",
    "    'metric': 'auc',\n",
    "    'learning_rate': 0.1,\n",
    "    'num_leaves': 255,  \n",
    "    'max_depth': 8,  \n",
    "    'min_child_samples': 100,  \n",
    "    'max_bin': 100,  \n",
    "    'subsample': 0.7,  \n",
    "    'subsample_freq': 1,  \n",
    "    'colsample_bytree': 0.7,  \n",
    "    'min_child_weight': 0,  \n",
    "    'subsample_for_bin': 200000,  \n",
    "    'min_split_gain': 0,  \n",
    "    'reg_alpha': 0,  \n",
    "    'reg_lambda': 0,  \n",
    "   # 'nthread': 8,\n",
    "    'verbose': 0,\n",
    "    }"
   ]
  },
  {
   "cell_type": "code",
   "execution_count": 44,
   "metadata": {
    "collapsed": true,
    "scrolled": true
   },
   "outputs": [],
   "source": [
    "dtrain = lgb.Dataset(X_train[predictors].values, label=y_train,\n",
    "                      feature_name=predictors,\n",
    "                      categorical_feature=categorical\n",
    "                      )\n",
    "dvalid = lgb.Dataset(X_test.values, label=y_test,\n",
    "                      feature_name=predictors,\n",
    "                      categorical_feature=categorical\n",
    "                      )"
   ]
  },
  {
   "cell_type": "code",
   "execution_count": 45,
   "metadata": {
    "scrolled": true
   },
   "outputs": [
    {
     "name": "stdout",
     "output_type": "stream",
     "text": [
      "[1]\ttrain's auc: 0.960283\tvalid's auc: 0.953071\n",
      "Training until validation scores don't improve for 30 rounds.\n",
      "[2]\ttrain's auc: 0.961093\tvalid's auc: 0.95167\n",
      "[3]\ttrain's auc: 0.966073\tvalid's auc: 0.949808\n",
      "[4]\ttrain's auc: 0.967772\tvalid's auc: 0.9476\n",
      "[5]\ttrain's auc: 0.968002\tvalid's auc: 0.950145\n",
      "[6]\ttrain's auc: 0.967968\tvalid's auc: 0.954998\n",
      "[7]\ttrain's auc: 0.968814\tvalid's auc: 0.953765\n",
      "[8]\ttrain's auc: 0.96958\tvalid's auc: 0.953716\n",
      "[9]\ttrain's auc: 0.970133\tvalid's auc: 0.953293\n",
      "[10]\ttrain's auc: 0.970194\tvalid's auc: 0.953165\n",
      "[11]\ttrain's auc: 0.970676\tvalid's auc: 0.95294\n",
      "[12]\ttrain's auc: 0.970949\tvalid's auc: 0.952536\n",
      "[13]\ttrain's auc: 0.971192\tvalid's auc: 0.951946\n",
      "[14]\ttrain's auc: 0.971435\tvalid's auc: 0.951792\n",
      "[15]\ttrain's auc: 0.971723\tvalid's auc: 0.951494\n",
      "[16]\ttrain's auc: 0.972034\tvalid's auc: 0.951321\n",
      "[17]\ttrain's auc: 0.972239\tvalid's auc: 0.951133\n",
      "[18]\ttrain's auc: 0.972447\tvalid's auc: 0.950829\n",
      "[19]\ttrain's auc: 0.972625\tvalid's auc: 0.950676\n",
      "[20]\ttrain's auc: 0.972775\tvalid's auc: 0.951059\n",
      "[21]\ttrain's auc: 0.972923\tvalid's auc: 0.950858\n",
      "[22]\ttrain's auc: 0.973029\tvalid's auc: 0.950696\n",
      "[23]\ttrain's auc: 0.973199\tvalid's auc: 0.950353\n",
      "[24]\ttrain's auc: 0.973278\tvalid's auc: 0.949601\n",
      "[25]\ttrain's auc: 0.973363\tvalid's auc: 0.949854\n",
      "[26]\ttrain's auc: 0.973552\tvalid's auc: 0.949456\n",
      "[27]\ttrain's auc: 0.97367\tvalid's auc: 0.949003\n",
      "[28]\ttrain's auc: 0.973857\tvalid's auc: 0.948885\n",
      "[29]\ttrain's auc: 0.973982\tvalid's auc: 0.950043\n",
      "[30]\ttrain's auc: 0.974095\tvalid's auc: 0.949802\n",
      "[31]\ttrain's auc: 0.974231\tvalid's auc: 0.950331\n",
      "[32]\ttrain's auc: 0.97436\tvalid's auc: 0.951447\n",
      "[33]\ttrain's auc: 0.974463\tvalid's auc: 0.951392\n",
      "[34]\ttrain's auc: 0.974568\tvalid's auc: 0.95098\n",
      "[35]\ttrain's auc: 0.974717\tvalid's auc: 0.950439\n",
      "[36]\ttrain's auc: 0.974832\tvalid's auc: 0.94992\n",
      "Early stopping, best iteration is:\n",
      "[6]\ttrain's auc: 0.967968\tvalid's auc: 0.954998\n"
     ]
    }
   ],
   "source": [
    "evals_results = {}\n",
    "lgb_model = lgb.train(params, \n",
    "                 dtrain, \n",
    "                 valid_sets=[dtrain, dvalid], \n",
    "                 valid_names=['train','valid'], \n",
    "                 evals_result=evals_results, \n",
    "                 num_boost_round=350,\n",
    "                 early_stopping_rounds=30,\n",
    "                 verbose_eval=True, \n",
    "                 feval=None)"
   ]
  },
  {
   "cell_type": "markdown",
   "metadata": {},
   "source": [
    "### XGBoost"
   ]
  },
  {
   "cell_type": "code",
   "execution_count": null,
   "metadata": {
    "collapsed": true
   },
   "outputs": [],
   "source": []
  },
  {
   "cell_type": "code",
   "execution_count": null,
   "metadata": {
    "collapsed": true
   },
   "outputs": [],
   "source": []
  },
  {
   "cell_type": "code",
   "execution_count": null,
   "metadata": {
    "collapsed": true
   },
   "outputs": [],
   "source": []
  },
  {
   "cell_type": "code",
   "execution_count": null,
   "metadata": {
    "collapsed": true
   },
   "outputs": [],
   "source": []
  },
  {
   "cell_type": "markdown",
   "metadata": {},
   "source": [
    "## Prediction"
   ]
  },
  {
   "cell_type": "code",
   "execution_count": 46,
   "metadata": {
    "collapsed": true
   },
   "outputs": [],
   "source": [
    "# Predict on test dataset and write out submission file\n",
    "test2 = test_ag.drop(['click_id','ip'],axis=1)"
   ]
  },
  {
   "cell_type": "code",
   "execution_count": 47,
   "metadata": {},
   "outputs": [
    {
     "data": {
      "text/html": [
       "<div>\n",
       "<style>\n",
       "    .dataframe thead tr:only-child th {\n",
       "        text-align: right;\n",
       "    }\n",
       "\n",
       "    .dataframe thead th {\n",
       "        text-align: left;\n",
       "    }\n",
       "\n",
       "    .dataframe tbody tr th {\n",
       "        vertical-align: top;\n",
       "    }\n",
       "</style>\n",
       "<table border=\"1\" class=\"dataframe\">\n",
       "  <thead>\n",
       "    <tr style=\"text-align: right;\">\n",
       "      <th></th>\n",
       "      <th>app</th>\n",
       "      <th>device</th>\n",
       "      <th>os</th>\n",
       "      <th>channel</th>\n",
       "      <th>wday</th>\n",
       "      <th>hour</th>\n",
       "      <th>n_ip</th>\n",
       "      <th>ip_app_count</th>\n",
       "      <th>ip_device_count</th>\n",
       "      <th>ip_os_count</th>\n",
       "      <th>ip_wday_hour</th>\n",
       "      <th>ip_app_hour</th>\n",
       "      <th>ip_device_hour</th>\n",
       "      <th>ip_os_hour</th>\n",
       "      <th>ip_os_device_hour</th>\n",
       "    </tr>\n",
       "  </thead>\n",
       "  <tbody>\n",
       "    <tr>\n",
       "      <th>0</th>\n",
       "      <td>9</td>\n",
       "      <td>1</td>\n",
       "      <td>3</td>\n",
       "      <td>107</td>\n",
       "      <td>4</td>\n",
       "      <td>4</td>\n",
       "      <td>91</td>\n",
       "      <td>28</td>\n",
       "      <td>91</td>\n",
       "      <td>3</td>\n",
       "      <td>34</td>\n",
       "      <td>8</td>\n",
       "      <td>34</td>\n",
       "      <td>3</td>\n",
       "      <td>3</td>\n",
       "    </tr>\n",
       "    <tr>\n",
       "      <th>1</th>\n",
       "      <td>9</td>\n",
       "      <td>1</td>\n",
       "      <td>3</td>\n",
       "      <td>466</td>\n",
       "      <td>4</td>\n",
       "      <td>4</td>\n",
       "      <td>2083</td>\n",
       "      <td>289</td>\n",
       "      <td>2069</td>\n",
       "      <td>43</td>\n",
       "      <td>403</td>\n",
       "      <td>50</td>\n",
       "      <td>400</td>\n",
       "      <td>17</td>\n",
       "      <td>17</td>\n",
       "    </tr>\n",
       "    <tr>\n",
       "      <th>2</th>\n",
       "      <td>21</td>\n",
       "      <td>1</td>\n",
       "      <td>19</td>\n",
       "      <td>128</td>\n",
       "      <td>4</td>\n",
       "      <td>4</td>\n",
       "      <td>2135</td>\n",
       "      <td>312</td>\n",
       "      <td>2092</td>\n",
       "      <td>197</td>\n",
       "      <td>229</td>\n",
       "      <td>13</td>\n",
       "      <td>229</td>\n",
       "      <td>69</td>\n",
       "      <td>69</td>\n",
       "    </tr>\n",
       "    <tr>\n",
       "      <th>3</th>\n",
       "      <td>15</td>\n",
       "      <td>1</td>\n",
       "      <td>13</td>\n",
       "      <td>111</td>\n",
       "      <td>4</td>\n",
       "      <td>4</td>\n",
       "      <td>1201</td>\n",
       "      <td>42</td>\n",
       "      <td>1190</td>\n",
       "      <td>328</td>\n",
       "      <td>239</td>\n",
       "      <td>10</td>\n",
       "      <td>239</td>\n",
       "      <td>98</td>\n",
       "      <td>98</td>\n",
       "    </tr>\n",
       "    <tr>\n",
       "      <th>4</th>\n",
       "      <td>12</td>\n",
       "      <td>1</td>\n",
       "      <td>13</td>\n",
       "      <td>328</td>\n",
       "      <td>4</td>\n",
       "      <td>4</td>\n",
       "      <td>208</td>\n",
       "      <td>24</td>\n",
       "      <td>203</td>\n",
       "      <td>49</td>\n",
       "      <td>60</td>\n",
       "      <td>7</td>\n",
       "      <td>59</td>\n",
       "      <td>27</td>\n",
       "      <td>27</td>\n",
       "    </tr>\n",
       "  </tbody>\n",
       "</table>\n",
       "</div>"
      ],
      "text/plain": [
       "   app  device  os  channel  wday  hour  n_ip  ip_app_count  ip_device_count  \\\n",
       "0    9       1   3      107     4     4    91            28               91   \n",
       "1    9       1   3      466     4     4  2083           289             2069   \n",
       "2   21       1  19      128     4     4  2135           312             2092   \n",
       "3   15       1  13      111     4     4  1201            42             1190   \n",
       "4   12       1  13      328     4     4   208            24              203   \n",
       "\n",
       "   ip_os_count  ip_wday_hour  ip_app_hour  ip_device_hour  ip_os_hour  \\\n",
       "0            3            34            8              34           3   \n",
       "1           43           403           50             400          17   \n",
       "2          197           229           13             229          69   \n",
       "3          328           239           10             239          98   \n",
       "4           49            60            7              59          27   \n",
       "\n",
       "   ip_os_device_hour  \n",
       "0                  3  \n",
       "1                 17  \n",
       "2                 69  \n",
       "3                 98  \n",
       "4                 27  "
      ]
     },
     "execution_count": 47,
     "metadata": {},
     "output_type": "execute_result"
    }
   ],
   "source": [
    "test2.head()"
   ]
  },
  {
   "cell_type": "code",
   "execution_count": null,
   "metadata": {
    "collapsed": true,
    "scrolled": true
   },
   "outputs": [],
   "source": [
    "rfc.fit(X,y)"
   ]
  },
  {
   "cell_type": "code",
   "execution_count": 48,
   "metadata": {
    "collapsed": true
   },
   "outputs": [],
   "source": [
    "#y_submit = rfc.predict(test2)\n",
    "y_submit = lgb_model.predict(test2[predictors],num_iteration=lgb_model.best_iteration)"
   ]
  },
  {
   "cell_type": "code",
   "execution_count": 49,
   "metadata": {
    "collapsed": true
   },
   "outputs": [],
   "source": [
    "test_ag['is_attributed'] = y_submit\n",
    "ans = test_ag[['click_id', 'is_attributed']]"
   ]
  },
  {
   "cell_type": "code",
   "execution_count": 50,
   "metadata": {
    "collapsed": true,
    "scrolled": true
   },
   "outputs": [],
   "source": [
    "ans.to_csv('submission3.csv', index=None)"
   ]
  },
  {
   "cell_type": "code",
   "execution_count": 51,
   "metadata": {
    "scrolled": true
   },
   "outputs": [
    {
     "data": {
      "text/plain": [
       "(18790469, 2)"
      ]
     },
     "execution_count": 51,
     "metadata": {},
     "output_type": "execute_result"
    }
   ],
   "source": [
    "ans.shape"
   ]
  },
  {
   "cell_type": "markdown",
   "metadata": {},
   "source": [
    "## Feature Importance"
   ]
  },
  {
   "cell_type": "code",
   "execution_count": 52,
   "metadata": {
    "collapsed": true
   },
   "outputs": [],
   "source": [
    "from lightgbm import plot_importance"
   ]
  },
  {
   "cell_type": "code",
   "execution_count": 53,
   "metadata": {},
   "outputs": [
    {
     "data": {
      "image/png": "[encoded data removed]",
      "text/plain": [
       "<matplotlib.figure.Figure at 0x19bc0438>"
      ]
     },
     "metadata": {},
     "output_type": "display_data"
    }
   ],
   "source": [
    "# Plot the feature importance from xgboost\n",
    "plot_importance(lgb_model)\n",
    "plt.gcf().savefig('feature_importance_lgb.png')"
   ]
  },
  {
   "cell_type": "code",
   "execution_count": null,
   "metadata": {
    "collapsed": true
   },
   "outputs": [],
   "source": []
  },
  {
   "cell_type": "code",
   "execution_count": null,
   "metadata": {
    "collapsed": true
   },
   "outputs": [],
   "source": []
  }
 ],
 "metadata": {
  "kernelspec": {
   "display_name": "Python 2",
   "language": "python",
   "name": "python2"
  },
  "language_info": {
   "codemirror_mode": {
    "name": "ipython",
    "version": 2
   },
   "file_extension": ".py",
   "mimetype": "text/x-python",
   "name": "python",
   "nbconvert_exporter": "python",
   "pygments_lexer": "ipython2",
   "version": "2.7.14"
  }
 },
 "nbformat": 4,
 "nbformat_minor": 2
}
